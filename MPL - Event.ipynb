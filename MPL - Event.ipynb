{
 "cells": [
  {
   "cell_type": "markdown",
   "id": "54724b8d-7a88-4f42-a4c8-86439078391b",
   "metadata": {},
   "source": [
    "# Matplotlib: Event Handling and Picking"
   ]
  },
  {
   "cell_type": "markdown",
   "id": "bded1f3d-928e-4e8a-9240-72ab427a5c0b",
   "metadata": {},
   "source": [
    "# Fontes\n",
    "\n",
    "+ [Matplotlib Event Handling](https://matplotlib.org/stable/users/event_handling.html)\n",
    "+ [Get mouse coordinates in Matplotlib](https://stackoverflow.com/questions/51349959/get-mouse-coordinates-without-clicking-in-matplotlib)\n",
    "+ [Store mouse click event coordinates](https://stackoverflow.com/questions/25521120/store-mouse-click-event-coordinates-with-matplotlib)\n",
    "+ [Mouse click coordinates as simply as possible](https://stackoverflow.com/questions/37363755/python-mouse-click-coordinates-as-simply-as-possible)"
   ]
  },
  {
   "cell_type": "code",
   "execution_count": 1,
   "id": "fd9ffc09-b187-416f-8dce-cb03bb5e2120",
   "metadata": {},
   "outputs": [],
   "source": [
    "%matplotlib qt5\n",
    "# %matplotlib widget\n",
    "import matplotlib.pyplot as plt\n",
    "import matplotlib.patches as patches\n",
    "import numpy as np"
   ]
  },
  {
   "cell_type": "markdown",
   "id": "1e05479e-dd4c-45a9-b815-d4adc4261fce",
   "metadata": {},
   "source": [
    "Exemplo: Mouse Click"
   ]
  },
  {
   "cell_type": "code",
   "execution_count": 2,
   "id": "ac40014d-9ede-4920-a3fd-9564743c6b20",
   "metadata": {},
   "outputs": [
    {
     "name": "stdout",
     "output_type": "stream",
     "text": [
      "single click: button: 1; x = 401; y = 304; xdata = 5.957056451612901; ydata = 0.5158801548001619\n",
      "double click: button: 1; x = 401; y = 304; xdata = 5.957056451612901; ydata = 0.5158801548001619\n",
      "single click: button: 1; x = 381; y = 314; xdata = 5.557862903225805; ydata = 0.5368840484904441\n",
      "double click: button: 1; x = 377; y = 314; xdata = 5.478024193548386; ydata = 0.5368840484904441\n",
      "single click: button: 1; x = 297; y = 234; xdata = 3.881249999999999; ydata = 0.3688528989681866\n",
      "single click: button: 1; x = 285; y = 199; xdata = 3.6417338709677414; ydata = 0.295339271052199\n",
      "single click: button: 1; x = 287; y = 149; xdata = 3.6816532258064503; ydata = 0.190319802600788\n",
      "single click: button: 1; x = 247; y = 135; xdata = 2.883266129032257; ydata = 0.16091435143439292\n",
      "single click: button: 1; x = 129; y = 179; xdata = 0.5280241935483869; ydata = 0.2533314836716346\n",
      "single click: button: 1; x = 231; y = 230; xdata = 2.56391129032258; ydata = 0.36045134149207375\n",
      "single click: button: 1; x = 316; y = 243; xdata = 4.260483870967741; ydata = 0.38775640328944067\n"
     ]
    }
   ],
   "source": [
    "fig, ax  = plt.subplots()\n",
    "ax.plot(np.random.rand(10))\n",
    "def onclick(event):\n",
    "    \"\"\"\n",
    "    Esta função define o que acontecerá com o plot ao clicar neste. A título de um simples exemplo, o plot\n",
    "    imprimirá as coordenadas no clique e se o clique foi de botão esquerdo ou direito.\n",
    "    \n",
    "    Entrada: \n",
    "    event, (object) :: define o evento que deverá ser salvo. Pode ser button_press, key_press, etc.\n",
    "                       No presente caso, tratar-se-á do button_press: botões do mouse.\n",
    "    \"\"\"\n",
    "    click = \"double\" if event.dblclick else \"single\"\n",
    "    msg = \"{} click: button: {}; x = {}; y = {}; xdata = {}; ydata = {}\".format(\n",
    "            click, event.button, event.x, event.y, event.xdata, event.ydata)\n",
    "    print(msg)\n",
    "\n",
    "# Define o connectionid:\n",
    "# fig.canvas.mpl_connect é um método que, quando lê uma evento (button press, por exemplo), chama uma função\n",
    "# usando o evento lido como argumento.\n",
    "cid = fig.canvas.mpl_connect(\"button_press_event\", onclick)"
   ]
  },
  {
   "cell_type": "markdown",
   "id": "783864c1-dce8-4bc6-9142-13d0ae818e6e",
   "metadata": {},
   "source": [
    "Exemplo: Key press"
   ]
  },
  {
   "cell_type": "code",
   "execution_count": 3,
   "id": "f2932f20-65e2-498f-b363-596730df3229",
   "metadata": {},
   "outputs": [
    {
     "name": "stdout",
     "output_type": "stream",
     "text": [
      "A tecla 'a' foi pressionada. As coordenadas salvas são x = 393, y = 282\n",
      "A tecla 'c' foi pressionada. As coordenadas salvas são x = 393, y = 282\n",
      "A tecla 'v' foi pressionada. As coordenadas salvas são x = 393, y = 282\n",
      "A tecla 'b' foi pressionada. As coordenadas salvas são x = 393, y = 282\n",
      "A tecla 'f' foi pressionada. As coordenadas salvas são x = 393, y = 282\n",
      "A tecla 'f' foi pressionada. As coordenadas salvas são x = 1250, y = 572\n"
     ]
    }
   ],
   "source": [
    "fig, ax  = plt.subplots()\n",
    "ax.plot(np.random.rand(10))\n",
    "\n",
    "def onpress(event):\n",
    "    \"\"\"\n",
    "    Esta função define o que acontecerá com o plot ao clicar neste. A título de um simples exemplo, o plot\n",
    "    imprimirá as coordenadas no clique e se o clique foi de botão esquerdo ou direito.\n",
    "    \n",
    "    Entrada: \n",
    "    event, (object) :: define o evento que deverá ser salvo. Pode ser button_press, key_press, etc.\n",
    "                       No presente caso, tratar-se-á do key_press_event: botões do teclado.\n",
    "    \"\"\"\n",
    "    \n",
    "    msg = \"A tecla '{}' foi pressionada. As coordenadas salvas são x = {}, y = {}\".format(\n",
    "            event.key, event.x, event.y)\n",
    "    \n",
    "    print(msg)\n",
    "\n",
    "# Define o connectionid\n",
    "cid = fig.canvas.mpl_connect(\"key_press_event\", onpress)"
   ]
  },
  {
   "cell_type": "markdown",
   "id": "1a75edbf-8e67-4779-8c92-e9f640b448ff",
   "metadata": {},
   "source": [
    "## Exemplo: ligar os pontos\n",
    "\n",
    "Obs: se arr = [1], então `element, = arr` implica `element = 1`; `element = arr` implica `element = [1]`. Consulte [isto aqui](https://stackoverflow.com/questions/65337288/line-ax-plotx-y).\n",
    "\n",
    "`ax.plot()[0]` fornece um objeto `Line 2d`, cujos atributos e métodos podem ser consultados [aqui](https://matplotlib.org/stable/api/_as_gen/matplotlib.lines.Line2D.html).\n",
    "\n",
    "`mpl_connect()` liga um evento a um canvas. \n",
    "\n",
    "\n",
    "+ [Plot specific Line2D](https://stackoverflow.com/questions/28688210/use-line2d-to-plot-line-in-python)"
   ]
  },
  {
   "cell_type": "code",
   "execution_count": 4,
   "id": "3b67adac-2f64-4bf2-a9ba-4a5d4ae0c1f8",
   "metadata": {},
   "outputs": [],
   "source": [
    "class LineBuilder:\n",
    "    def __init__(self, line):\n",
    "        \n",
    "        # Redefine as coords para vazio. Desta forma, a figura poligonal terá início no primeiro ponto escolhido,\n",
    "        # não na origem.\n",
    "        line.set_data([],[])\n",
    "        \n",
    "        self.line = line\n",
    "        self.xs = list(line.get_xdata()) # Recupera todos os x dos pontos em Line2D\n",
    "        self.ys = list(line.get_ydata()) # Recupera todos os y dos pontos em Line2D\n",
    "        self.cid = line.figure.canvas.mpl_connect('button_press_event', self) \n",
    "            # Este connectionid chama a instance do LineBuilder todas as vezes que há um \"button_press_event\".\n",
    "            # chama: __call__.\n",
    "\n",
    "    def __call__(self, event):\n",
    "#         print('click', event)\n",
    "\n",
    "        if event.inaxes!=self.line.axes: return \n",
    "            # Se o mouse click estiver fora do ax, nada ocorrerá; o __call__ termina.\n",
    "            # Se o mouse click estiver dentro do ax, então novos pontos são adicionados ao gráfico.\n",
    "        \n",
    "        self.xs.append(event.xdata) \n",
    "        self.ys.append(event.ydata)\n",
    "        self.line.set_data(self.xs, self.ys)\n",
    "#         print(self.xs)\n",
    "        \n",
    "        # Renderiza o novo gráfico.\n",
    "        # fig.canvas.draw() basicamente re-renderiza a figura.\n",
    "        self.line.figure.canvas.draw()\n",
    "\n",
    "fig, ax = plt.subplots()\n",
    "ax.set(xlim=[-1,1], ylim=[-1,1], title=\"Click to build line segments\")\n",
    "line, = ax.plot([0],[0])  # Linha vazia; início do canvas.\n",
    "linebuilder = LineBuilder(line)\n",
    "plt.show()"
   ]
  },
  {
   "cell_type": "markdown",
   "id": "426bf941-bfdf-4719-9401-70b1dc0d5c1a",
   "metadata": {},
   "source": [
    "## Draggable rectangle exercise\n",
    "Write draggable rectangle class that is initialized with a Rectangle instance but will move its xy location when dragged. Hint: you will need to store the original xy location of the rectangle which is stored as rect.xy and connect to the press, motion and release mouse events. When the mouse is pressed, check to see if the click occurs over your rectangle (see Rectangle.contains) and if it does, store the rectangle xy and the location of the mouse click in data coords. In the motion event callback, compute the deltax and deltay of the mouse movement, and add those deltas to the origin of the rectangle you stored. The redraw the figure. On the button release event, just reset all the button press data you stored as None."
   ]
  },
  {
   "cell_type": "markdown",
   "id": "feb90acb-6482-4006-ba0b-23617e065e0b",
   "metadata": {},
   "source": [
    "## Atenção:\n",
    "\n",
    "Absolutamente toda a documentação está [aqui](https://matplotlib.org/stable/api/backend_bases_api.html), tudo em uma única página. Se tiver dúvida sobre um evento, recomendo fortemente usar\n",
    "\n",
    "```python\n",
    "...\n",
    "def test_event_func(event):\n",
    "    print(dir(event))\n",
    "\n",
    "cid = fig.canvas.mpl_connect(event_name, test_event_func)\n",
    "...\n",
    "```\n",
    "\n",
    "Isto imprimirá todos os atributos e todos os métodos do evento."
   ]
  },
  {
   "cell_type": "markdown",
   "id": "772aabc0-f404-4208-9f48-a44150da7992",
   "metadata": {},
   "source": [
    "**Rectangle:**\n",
    "+ [`Rectangle` documentation](https://matplotlib.org/stable/api/_as_gen/matplotlib.patches.Rectangle.html)\n",
    "+ [`Contains` method](https://matplotlib.org/stable/api/_as_gen/matplotlib.artist.Artist.contains.html)"
   ]
  },
  {
   "cell_type": "code",
   "execution_count": 8,
   "id": "6556bc51-5c8a-4ee1-aec8-33d27ea31ac6",
   "metadata": {},
   "outputs": [],
   "source": [
    "class DraggableRect():\n",
    "    \n",
    "    rect_params = {\"xy\":[0,0],'width':2,'height':4,\"facecolor\":'tab:blue'}\n",
    "    ax_param = {'xlim':[-1,5],'ylim':[-1,5],'title':\"Move the rectangle around\"}\n",
    "    rect = patches.Rectangle(**rect_params)\n",
    "\n",
    "    fig,ax = plt.subplots()\n",
    "    ax.add_patch(rect)\n",
    "    ax.set(**ax_param)\n",
    "    \n",
    "    def __init__(self):\n",
    "        self.cid1 = self.fig.canvas.mpl_connect(\"button_press_event\",self.on_click)\n",
    "        self.cid2 = self.fig.canvas.mpl_connect(\"motion_notify_event\",self.on_motion)\n",
    "        self.cid3 = self.fig.canvas.mpl_connect(\"button_release_event\",self.on_release)\n",
    "        self.mouse_x = None\n",
    "        self.mouse_y = None\n",
    "    \n",
    "    def on_click(self,event):\n",
    "        contains,_ = self.rect.contains(event)\n",
    "#         print('Inside') if contains else print('Outside')\n",
    "        if not contains: return\n",
    "        self.mouse_x = event.xdata\n",
    "        self.mouse_y = event.ydata\n",
    "        \n",
    "    \n",
    "    def on_motion(self,event):\n",
    "        # Todas essas verificações são necessárias. Se o mouse for para fora da região da figura, não há como mover\n",
    "        # o retângulo para lá. Se o clique anterior não tiver sido no retângulo, não deverá o mover.\n",
    "        if (self.mouse_x == None or self.mouse_y == None\n",
    "            or event.xdata == None or event.ydata==None): return\n",
    "        \n",
    "        delta_x = event.xdata - self.mouse_x\n",
    "        delta_y = event.ydata - self.mouse_y\n",
    "        \n",
    "        rect_x = self.rect.get_x()\n",
    "        rect_y = self.rect.get_y()\n",
    "        \n",
    "        self.rect.set(xy=[rect_x+delta_x, rect_y+delta_y])\n",
    "        self.fig.canvas.draw()\n",
    "        \n",
    "        self.mouse_x = event.xdata\n",
    "        self.mouse_y = event.ydata\n",
    "        \n",
    "        \n",
    "    \n",
    "    def on_release(self,event):\n",
    "#         print(self.mouse_xy)\n",
    "        self.mouse_x = None\n",
    "        self.mouse_y = None\n",
    "                    \n",
    "dr = DraggableRect()"
   ]
  },
  {
   "cell_type": "markdown",
   "id": "b4cec723-e6da-412d-b2e4-2c44825234ae",
   "metadata": {},
   "source": [
    "Consegui. Depois de muito tempo consultando a documentação, consegui fazer isto sozinho."
   ]
  },
  {
   "cell_type": "markdown",
   "id": "2bc45255-aaec-4661-b40c-f23a06c797f1",
   "metadata": {},
   "source": [
    "## O teste que importa:\n",
    "\n",
    "A figura é exibida. As coordenadas do clique são lidas e uma função principal é executada. Esta função principal chama uma função secundária."
   ]
  },
  {
   "cell_type": "code",
   "execution_count": 146,
   "id": "4461dc02-c134-42c0-9c67-e653ecf1dc97",
   "metadata": {},
   "outputs": [],
   "source": [
    "fig,ax = plt.subplots()\n",
    "ax.set(xlim=[-10,10], ylim=[-10,10])\n",
    "\n",
    "def on_click(event):\n",
    "    ax.clear()\n",
    "#     print('Houve mouse click nas coordenadas a seguir:\\n \\\n",
    "#           x = {}, y = {}'.format(event.xdata,event.ydata))\n",
    "    func()\n",
    "\n",
    "def func():\n",
    "#     print(\"\\n\\n func() executada. Será plotado um gráfico aleatório.\\n\\n\")\n",
    "    ax.plot(np.random.rand(10))\n",
    "    fig.canvas.draw()\n",
    "\n",
    "\n",
    "cid = fig.canvas.mpl_connect(\"button_press_event\", on_click)\n",
    "fig.show()\n"
   ]
  }
 ],
 "metadata": {
  "kernelspec": {
   "display_name": "Python 3 (ipykernel)",
   "language": "python",
   "name": "python3"
  },
  "language_info": {
   "codemirror_mode": {
    "name": "ipython",
    "version": 3
   },
   "file_extension": ".py",
   "mimetype": "text/x-python",
   "name": "python",
   "nbconvert_exporter": "python",
   "pygments_lexer": "ipython3",
   "version": "3.9.12"
  }
 },
 "nbformat": 4,
 "nbformat_minor": 5
}
